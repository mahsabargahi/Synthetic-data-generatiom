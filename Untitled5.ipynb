{
 "cells": [
  {
   "cell_type": "code",
   "execution_count": 28,
   "metadata": {},
   "outputs": [
    {
     "data": {
      "text/html": [
       "<div>\n",
       "<style scoped>\n",
       "    .dataframe tbody tr th:only-of-type {\n",
       "        vertical-align: middle;\n",
       "    }\n",
       "\n",
       "    .dataframe tbody tr th {\n",
       "        vertical-align: top;\n",
       "    }\n",
       "\n",
       "    .dataframe thead th {\n",
       "        text-align: right;\n",
       "    }\n",
       "</style>\n",
       "<table border=\"1\" class=\"dataframe\">\n",
       "  <thead>\n",
       "    <tr style=\"text-align: right;\">\n",
       "      <th></th>\n",
       "      <th>Date</th>\n",
       "      <th>Close</th>\n",
       "      <th>Adj Close</th>\n",
       "      <th>Volume</th>\n",
       "      <th>Daily_Return_Pct</th>\n",
       "    </tr>\n",
       "  </thead>\n",
       "  <tbody>\n",
       "    <tr>\n",
       "      <th>42</th>\n",
       "      <td>3/5/1970</td>\n",
       "      <td>90.000000</td>\n",
       "      <td>90.000000</td>\n",
       "      <td>11370000.0</td>\n",
       "      <td>-0.006222</td>\n",
       "    </tr>\n",
       "    <tr>\n",
       "      <th>43</th>\n",
       "      <td>3/6/1970</td>\n",
       "      <td>89.440002</td>\n",
       "      <td>89.440002</td>\n",
       "      <td>10980000.0</td>\n",
       "      <td>-0.010398</td>\n",
       "    </tr>\n",
       "    <tr>\n",
       "      <th>44</th>\n",
       "      <td>3/9/1970</td>\n",
       "      <td>88.510002</td>\n",
       "      <td>88.510002</td>\n",
       "      <td>9760000.0</td>\n",
       "      <td>0.002712</td>\n",
       "    </tr>\n",
       "    <tr>\n",
       "      <th>45</th>\n",
       "      <td>3/10/1970</td>\n",
       "      <td>88.750000</td>\n",
       "      <td>88.750000</td>\n",
       "      <td>9450000.0</td>\n",
       "      <td>-0.000676</td>\n",
       "    </tr>\n",
       "  </tbody>\n",
       "</table>\n",
       "</div>"
      ],
      "text/plain": [
       "         Date      Close  Adj Close      Volume  Daily_Return_Pct\n",
       "42   3/5/1970  90.000000  90.000000  11370000.0         -0.006222\n",
       "43   3/6/1970  89.440002  89.440002  10980000.0         -0.010398\n",
       "44   3/9/1970  88.510002  88.510002   9760000.0          0.002712\n",
       "45  3/10/1970  88.750000  88.750000   9450000.0         -0.000676"
      ]
     },
     "execution_count": 28,
     "metadata": {},
     "output_type": "execute_result"
    }
   ],
   "source": [
    "import pandas as pd\n",
    "data=pd.read_csv(\"SP.csv\")\n",
    "data.head()\n",
    "#slice_slices the data by row,this function returns rows x to y \n",
    "def slice(data,x,y):\n",
    "    return data.iloc[int(x)-1:int(y)-1,:]\n",
    "\n",
    "####return data by date \n",
    "#data.loc[data.Date==\"3/5/1970\",:]\n",
    "\n",
    "##slices by date\n",
    "def dated(data,x,y):\n",
    "    i=data[data['Date']==x].index[0]\n",
    "    l=data[data['Date']==y].index[0]\n",
    "    return slice(data,i+1,l+2)\n",
    "#dated(data,\"3/5/1970\",\"3/10/1970\")\n",
    "\n",
    "df = data[data['Close'].notna()]\n",
    "series = pd.read_csv(\"SP.csv\", header=0, index_col=0)\n",
    "series  = series [series ['Close'].notna()]"
   ]
  },
  {
   "cell_type": "code",
   "execution_count": 66,
   "metadata": {
    "scrolled": true
   },
   "outputs": [
    {
     "name": "stdout",
     "output_type": "stream",
     "text": [
      "Results of Dickey-Fuller Test:\n",
      "Test Statistic                     2.826141\n",
      "p-value                            1.000000\n",
      "#Lags Used                        41.000000\n",
      "Number of Observations Used    12572.000000\n",
      "Critical Value (1%)               -3.430870\n",
      "Critical Value (5%)               -2.861770\n",
      "Critical Value (10%)              -2.566892\n",
      "dtype: float64\n"
     ]
    }
   ],
   "source": [
    "####checking stationary\n",
    "\n",
    "#define function for ADF test\n",
    "from statsmodels.tsa.stattools import adfuller\n",
    "def adf_test(timeseries):\n",
    "    #Perform Dickey-Fuller test:\n",
    "    print ('Results of Dickey-Fuller Test:')\n",
    "    dftest = adfuller(timeseries, autolag='AIC')\n",
    "    dfoutput = pd.Series(dftest[0:4], index=['Test Statistic','p-value','#Lags Used','Number of Observations Used'])\n",
    "    for key,value in dftest[4].items():\n",
    "       dfoutput['Critical Value (%s)'%key] = value\n",
    "    print (dfoutput)\n",
    "\n",
    "#apply adf test on the series\n",
    "adf_test(df['Close'])"
   ]
  },
  {
   "cell_type": "code",
   "execution_count": null,
   "metadata": {
    "scrolled": true
   },
   "outputs": [],
   "source": []
  },
  {
   "cell_type": "code",
   "execution_count": null,
   "metadata": {},
   "outputs": [],
   "source": []
  },
  {
   "cell_type": "code",
   "execution_count": null,
   "metadata": {},
   "outputs": [],
   "source": []
  },
  {
   "cell_type": "code",
   "execution_count": null,
   "metadata": {},
   "outputs": [],
   "source": []
  },
  {
   "cell_type": "code",
   "execution_count": 64,
   "metadata": {},
   "outputs": [
    {
     "name": "stdout",
     "output_type": "stream",
     "text": [
      "KPSS Statistic: 25.385346057897515\n",
      "p-value: 0.01\n",
      "num lags: 41\n",
      "Critial Values:\n",
      "   10% : 0.347\n",
      "   5% : 0.463\n",
      "   2.5% : 0.574\n",
      "   1% : 0.739\n",
      "Result: The series is not stationary\n"
     ]
    },
    {
     "name": "stderr",
     "output_type": "stream",
     "text": [
      "C:\\Users\\barga\\Anaconda3\\lib\\site-packages\\statsmodels\\tsa\\stattools.py:1707: InterpolationWarning: p-value is smaller than the indicated p-value\n",
      "  warn(\"p-value is smaller than the indicated p-value\", InterpolationWarning)\n"
     ]
    }
   ],
   "source": [
    "from statsmodels.tsa.stattools import kpss\n",
    "def kpss_test(series, **kw):    \n",
    "    statistic, p_value, n_lags, critical_values = kpss(series, **kw)\n",
    "    # Format Output\n",
    "    print(f'KPSS Statistic: {statistic}')\n",
    "    print(f'p-value: {p_value}')\n",
    "    print(f'num lags: {n_lags}')\n",
    "    print('Critial Values:')\n",
    "    for key, value in critical_values.items():\n",
    "        print(f'   {key} : {value}')\n",
    "    print(f'Result: The series is {\"not \" if p_value < 0.05 else \"\"}stationary')\n",
    "kpss_test(series['Close'])\n",
    "#series not stationary"
   ]
  },
  {
   "cell_type": "code",
   "execution_count": null,
   "metadata": {},
   "outputs": [],
   "source": []
  }
 ],
 "metadata": {
  "kernelspec": {
   "display_name": "Python 3",
   "language": "python",
   "name": "python3"
  },
  "language_info": {
   "codemirror_mode": {
    "name": "ipython",
    "version": 3
   },
   "file_extension": ".py",
   "mimetype": "text/x-python",
   "name": "python",
   "nbconvert_exporter": "python",
   "pygments_lexer": "ipython3",
   "version": "3.7.3"
  }
 },
 "nbformat": 4,
 "nbformat_minor": 2
}
