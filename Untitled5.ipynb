{
 "cells": [
  {
   "cell_type": "code",
   "execution_count": 28,
   "metadata": {},
   "outputs": [
    {
     "data": {
      "text/html": [
       "<div>\n",
       "<style scoped>\n",
       "    .dataframe tbody tr th:only-of-type {\n",
       "        vertical-align: middle;\n",
       "    }\n",
       "\n",
       "    .dataframe tbody tr th {\n",
       "        vertical-align: top;\n",
       "    }\n",
       "\n",
       "    .dataframe thead th {\n",
       "        text-align: right;\n",
       "    }\n",
       "</style>\n",
       "<table border=\"1\" class=\"dataframe\">\n",
       "  <thead>\n",
       "    <tr style=\"text-align: right;\">\n",
       "      <th></th>\n",
       "      <th>Date</th>\n",
       "      <th>Close</th>\n",
       "      <th>Adj Close</th>\n",
       "      <th>Volume</th>\n",
       "      <th>Daily_Return_Pct</th>\n",
       "    </tr>\n",
       "  </thead>\n",
       "  <tbody>\n",
       "    <tr>\n",
       "      <th>42</th>\n",
       "      <td>3/5/1970</td>\n",
       "      <td>90.000000</td>\n",
       "      <td>90.000000</td>\n",
       "      <td>11370000.0</td>\n",
       "      <td>-0.006222</td>\n",
       "    </tr>\n",
       "    <tr>\n",
       "      <th>43</th>\n",
       "      <td>3/6/1970</td>\n",
       "      <td>89.440002</td>\n",
       "      <td>89.440002</td>\n",
       "      <td>10980000.0</td>\n",
       "      <td>-0.010398</td>\n",
       "    </tr>\n",
       "    <tr>\n",
       "      <th>44</th>\n",
       "      <td>3/9/1970</td>\n",
       "      <td>88.510002</td>\n",
       "      <td>88.510002</td>\n",
       "      <td>9760000.0</td>\n",
       "      <td>0.002712</td>\n",
       "    </tr>\n",
       "    <tr>\n",
       "      <th>45</th>\n",
       "      <td>3/10/1970</td>\n",
       "      <td>88.750000</td>\n",
       "      <td>88.750000</td>\n",
       "      <td>9450000.0</td>\n",
       "      <td>-0.000676</td>\n",
       "    </tr>\n",
       "  </tbody>\n",
       "</table>\n",
       "</div>"
      ],
      "text/plain": [
       "         Date      Close  Adj Close      Volume  Daily_Return_Pct\n",
       "42   3/5/1970  90.000000  90.000000  11370000.0         -0.006222\n",
       "43   3/6/1970  89.440002  89.440002  10980000.0         -0.010398\n",
       "44   3/9/1970  88.510002  88.510002   9760000.0          0.002712\n",
       "45  3/10/1970  88.750000  88.750000   9450000.0         -0.000676"
      ]
     },
     "execution_count": 28,
     "metadata": {},
     "output_type": "execute_result"
    }
   ],
   "source": [
    "import pandas as pd\n",
    "data=pd.read_csv(\"SP.csv\")\n",
    "data.head()\n",
    "#slice_slices the data by row,this function returns rows x to y \n",
    "def slice(data,x,y):\n",
    "    return data.iloc[int(x)-1:int(y)-1,:]\n",
    "\n",
    "####return data by date \n",
    "#data.loc[data.Date==\"3/5/1970\",:]\n",
    "\n",
    "##slices by date\n",
    "def dated(data,x,y):\n",
    "    i=data[data['Date']==x].index[0]\n",
    "    l=data[data['Date']==y].index[0]\n",
    "    return slice(data,i+1,l+2)\n",
    "#dated(data,\"3/5/1970\",\"3/10/1970\")\n",
    "\n",
    "    "
   ]
  },
  {
   "cell_type": "code",
   "execution_count": null,
   "metadata": {},
   "outputs": [],
   "source": []
  }
 ],
 "metadata": {
  "kernelspec": {
   "display_name": "Python 3",
   "language": "python",
   "name": "python3"
  },
  "language_info": {
   "codemirror_mode": {
    "name": "ipython",
    "version": 3
   },
   "file_extension": ".py",
   "mimetype": "text/x-python",
   "name": "python",
   "nbconvert_exporter": "python",
   "pygments_lexer": "ipython3",
   "version": "3.7.3"
  }
 },
 "nbformat": 4,
 "nbformat_minor": 2
}
