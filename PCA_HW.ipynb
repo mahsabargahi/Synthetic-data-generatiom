{
  "nbformat": 4,
  "nbformat_minor": 0,
  "metadata": {
    "colab": {
      "name": "PCA_HW.ipynb",
      "provenance": [],
      "authorship_tag": "ABX9TyOleASe1kew6zYej4q9a4/b",
      "include_colab_link": true
    },
    "kernelspec": {
      "name": "python3",
      "display_name": "Python 3"
    },
    "language_info": {
      "name": "python"
    }
  },
  "cells": [
    {
      "cell_type": "markdown",
      "metadata": {
        "id": "view-in-github",
        "colab_type": "text"
      },
      "source": [
        "<a href=\"https://colab.research.google.com/github/mahsabargahi/Synthetic-data-generatiom/blob/main/PCA_HW.ipynb\" target=\"_parent\"><img src=\"https://colab.research.google.com/assets/colab-badge.svg\" alt=\"Open In Colab\"/></a>"
      ]
    },
    {
      "cell_type": "markdown",
      "metadata": {
        "id": "1Hh7lwlI-kTz"
      },
      "source": [
        ""
      ]
    },
    {
      "cell_type": "code",
      "metadata": {
        "id": "IwI_PxadRcW9",
        "colab": {
          "base_uri": "https://localhost:8080/",
          "height": 458
        },
        "outputId": "8922c215-b73a-4be4-d7ba-5ba0ad676fb8"
      },
      "source": [
        " # mount google drive and change the current working directory\n",
        "from google.colab import drive # import the drive module\n",
        "drive.mount('/content/drive') # mount google drive\n",
        "%cd /content/drive/My\\ Drive/Colab\\ Notebooks\n",
        "#cd defines the current working directdory as my folder that stores my notebooks and data. "
      ],
      "execution_count": null,
      "outputs": [
        {
          "name": "stdout",
          "output_type": "stream",
          "text": [
            "Go to this URL in a browser: https://accounts.google.com/o/oauth2/auth?client_id=947318989803-6bn6qk8qdgf4n4g3pfee6491hc0brc4i.apps.googleusercontent.com&redirect_uri=urn%3aietf%3awg%3aoauth%3a2.0%3aoob&scope=email%20https%3a%2f%2fwww.googleapis.com%2fauth%2fdocs.test%20https%3a%2f%2fwww.googleapis.com%2fauth%2fdrive%20https%3a%2f%2fwww.googleapis.com%2fauth%2fdrive.photos.readonly%20https%3a%2f%2fwww.googleapis.com%2fauth%2fpeopleapi.readonly%20https%3a%2f%2fwww.googleapis.com%2fauth%2fdrive.activity.readonly%20https%3a%2f%2fwww.googleapis.com%2fauth%2fexperimentsandconfigs%20https%3a%2f%2fwww.googleapis.com%2fauth%2fphotos.native&response_type=code\n",
            "\n",
            "Enter your authorization code:\n",
            "4/1AX4XfWis9ANVm815l-qwugjjVO6eJe6ell_hGLe7WfkD3BnUaoI7aPEultM\n"
          ]
        },
        {
          "output_type": "error",
          "ename": "ValueError",
          "evalue": "ignored",
          "traceback": [
            "\u001b[0;31m---------------------------------------------------------------------------\u001b[0m",
            "\u001b[0;31mValueError\u001b[0m                                Traceback (most recent call last)",
            "\u001b[0;32m<ipython-input-3-21c06f0b750d>\u001b[0m in \u001b[0;36m<module>\u001b[0;34m()\u001b[0m\n\u001b[1;32m      1\u001b[0m \u001b[0;31m# mount google drive and change the current working directory\u001b[0m\u001b[0;34m\u001b[0m\u001b[0;34m\u001b[0m\u001b[0;34m\u001b[0m\u001b[0m\n\u001b[1;32m      2\u001b[0m \u001b[0;32mfrom\u001b[0m \u001b[0mgoogle\u001b[0m\u001b[0;34m.\u001b[0m\u001b[0mcolab\u001b[0m \u001b[0;32mimport\u001b[0m \u001b[0mdrive\u001b[0m \u001b[0;31m# import the drive module\u001b[0m\u001b[0;34m\u001b[0m\u001b[0;34m\u001b[0m\u001b[0m\n\u001b[0;32m----> 3\u001b[0;31m \u001b[0mdrive\u001b[0m\u001b[0;34m.\u001b[0m\u001b[0mmount\u001b[0m\u001b[0;34m(\u001b[0m\u001b[0;34m'/content/drive'\u001b[0m\u001b[0;34m)\u001b[0m \u001b[0;31m# mount google drive\u001b[0m\u001b[0;34m\u001b[0m\u001b[0;34m\u001b[0m\u001b[0m\n\u001b[0m\u001b[1;32m      4\u001b[0m \u001b[0mget_ipython\u001b[0m\u001b[0;34m(\u001b[0m\u001b[0;34m)\u001b[0m\u001b[0;34m.\u001b[0m\u001b[0mmagic\u001b[0m\u001b[0;34m(\u001b[0m\u001b[0;34m'cd /content/drive/My\\\\ Drive/Colab\\\\ Notebooks'\u001b[0m\u001b[0;34m)\u001b[0m\u001b[0;34m\u001b[0m\u001b[0;34m\u001b[0m\u001b[0m\n\u001b[1;32m      5\u001b[0m \u001b[0;31m#cd defines the current working directdory as my folder that stores my notebooks and data.\u001b[0m\u001b[0;34m\u001b[0m\u001b[0;34m\u001b[0m\u001b[0;34m\u001b[0m\u001b[0m\n",
            "\u001b[0;32m/usr/local/lib/python3.7/dist-packages/google/colab/drive.py\u001b[0m in \u001b[0;36mmount\u001b[0;34m(mountpoint, force_remount, timeout_ms, use_metadata_server)\u001b[0m\n\u001b[1;32m    112\u001b[0m       \u001b[0mtimeout_ms\u001b[0m\u001b[0;34m=\u001b[0m\u001b[0mtimeout_ms\u001b[0m\u001b[0;34m,\u001b[0m\u001b[0;34m\u001b[0m\u001b[0;34m\u001b[0m\u001b[0m\n\u001b[1;32m    113\u001b[0m       \u001b[0muse_metadata_server\u001b[0m\u001b[0;34m=\u001b[0m\u001b[0muse_metadata_server\u001b[0m\u001b[0;34m,\u001b[0m\u001b[0;34m\u001b[0m\u001b[0;34m\u001b[0m\u001b[0m\n\u001b[0;32m--> 114\u001b[0;31m       ephemeral=ephemeral)\n\u001b[0m\u001b[1;32m    115\u001b[0m \u001b[0;34m\u001b[0m\u001b[0m\n\u001b[1;32m    116\u001b[0m \u001b[0;34m\u001b[0m\u001b[0m\n",
            "\u001b[0;32m/usr/local/lib/python3.7/dist-packages/google/colab/drive.py\u001b[0m in \u001b[0;36m_mount\u001b[0;34m(mountpoint, force_remount, timeout_ms, use_metadata_server, ephemeral)\u001b[0m\n\u001b[1;32m    294\u001b[0m       \u001b[0mwrote_to_fifo\u001b[0m \u001b[0;34m=\u001b[0m \u001b[0;32mTrue\u001b[0m\u001b[0;34m\u001b[0m\u001b[0;34m\u001b[0m\u001b[0m\n\u001b[1;32m    295\u001b[0m     \u001b[0;32melif\u001b[0m \u001b[0mcase\u001b[0m \u001b[0;34m==\u001b[0m \u001b[0;36m5\u001b[0m\u001b[0;34m:\u001b[0m\u001b[0;34m\u001b[0m\u001b[0;34m\u001b[0m\u001b[0m\n\u001b[0;32m--> 296\u001b[0;31m       \u001b[0;32mraise\u001b[0m \u001b[0mValueError\u001b[0m\u001b[0;34m(\u001b[0m\u001b[0;34m'mount failed: invalid oauth code'\u001b[0m\u001b[0;34m)\u001b[0m\u001b[0;34m\u001b[0m\u001b[0;34m\u001b[0m\u001b[0m\n\u001b[0m\u001b[1;32m    297\u001b[0m     \u001b[0;32melif\u001b[0m \u001b[0mcase\u001b[0m \u001b[0;34m==\u001b[0m \u001b[0;36m6\u001b[0m\u001b[0;34m:\u001b[0m\u001b[0;34m\u001b[0m\u001b[0;34m\u001b[0m\u001b[0m\n\u001b[1;32m    298\u001b[0m       \u001b[0;31m# Terminate the DriveFS binary before killing bash.\u001b[0m\u001b[0;34m\u001b[0m\u001b[0;34m\u001b[0m\u001b[0;34m\u001b[0m\u001b[0m\n",
            "\u001b[0;31mValueError\u001b[0m: mount failed: invalid oauth code"
          ]
        }
      ]
    },
    {
      "cell_type": "code",
      "metadata": {
        "id": "UdX8j3z7_HBr"
      },
      "source": [
        "import matplotlib.pyplot as plt\n",
        "import pandas as pd\n",
        "import numpy as np\n",
        "import seaborn as sns"
      ],
      "execution_count": null,
      "outputs": []
    },
    {
      "cell_type": "code",
      "metadata": {
        "colab": {
          "base_uri": "https://localhost:8080/",
          "height": 223
        },
        "id": "doKYCP5y-m2N",
        "outputId": "a11abdd6-d81a-487b-968b-9afc40bb602a"
      },
      "source": [
        "df=pd.read_csv(\"Data/PCA_HW_Data.csv\")\n",
        "df.head()\n",
        "del df[\"Unnamed: 0\"] # delete the column \"Unnamed: 0\" because it duplicates the index of dataframe\n",
        "df.head()"
      ],
      "execution_count": null,
      "outputs": [
        {
          "output_type": "execute_result",
          "data": {
            "text/html": [
              "<div>\n",
              "<style scoped>\n",
              "    .dataframe tbody tr th:only-of-type {\n",
              "        vertical-align: middle;\n",
              "    }\n",
              "\n",
              "    .dataframe tbody tr th {\n",
              "        vertical-align: top;\n",
              "    }\n",
              "\n",
              "    .dataframe thead th {\n",
              "        text-align: right;\n",
              "    }\n",
              "</style>\n",
              "<table border=\"1\" class=\"dataframe\">\n",
              "  <thead>\n",
              "    <tr style=\"text-align: right;\">\n",
              "      <th></th>\n",
              "      <th>x1</th>\n",
              "      <th>x2</th>\n",
              "      <th>x3</th>\n",
              "      <th>x4</th>\n",
              "      <th>x5</th>\n",
              "      <th>x6</th>\n",
              "      <th>x7</th>\n",
              "      <th>x8</th>\n",
              "      <th>x9</th>\n",
              "      <th>x10</th>\n",
              "      <th>x11</th>\n",
              "      <th>x12</th>\n",
              "      <th>x13</th>\n",
              "      <th>x14</th>\n",
              "      <th>x15</th>\n",
              "      <th>x16</th>\n",
              "      <th>x17</th>\n",
              "      <th>x18</th>\n",
              "      <th>x19</th>\n",
              "      <th>x20</th>\n",
              "    </tr>\n",
              "  </thead>\n",
              "  <tbody>\n",
              "    <tr>\n",
              "      <th>0</th>\n",
              "      <td>-3.069499</td>\n",
              "      <td>3.643965</td>\n",
              "      <td>-0.505846</td>\n",
              "      <td>5.863174</td>\n",
              "      <td>0.855615</td>\n",
              "      <td>5.257339</td>\n",
              "      <td>-0.186357</td>\n",
              "      <td>-2.368981</td>\n",
              "      <td>2.518912</td>\n",
              "      <td>1.952812</td>\n",
              "      <td>2.619415</td>\n",
              "      <td>5.216446</td>\n",
              "      <td>7.967428</td>\n",
              "      <td>-1.826092</td>\n",
              "      <td>10.542699</td>\n",
              "      <td>2.982711</td>\n",
              "      <td>-1.268438</td>\n",
              "      <td>-1.175679</td>\n",
              "      <td>-3.010094</td>\n",
              "      <td>5.446378</td>\n",
              "    </tr>\n",
              "    <tr>\n",
              "      <th>1</th>\n",
              "      <td>-0.267595</td>\n",
              "      <td>-2.774399</td>\n",
              "      <td>0.806717</td>\n",
              "      <td>-1.651982</td>\n",
              "      <td>0.503814</td>\n",
              "      <td>-0.860890</td>\n",
              "      <td>-2.005647</td>\n",
              "      <td>-1.374468</td>\n",
              "      <td>1.788057</td>\n",
              "      <td>-2.481269</td>\n",
              "      <td>2.281105</td>\n",
              "      <td>-0.209945</td>\n",
              "      <td>-2.793556</td>\n",
              "      <td>1.152119</td>\n",
              "      <td>-6.122068</td>\n",
              "      <td>-4.003517</td>\n",
              "      <td>0.830428</td>\n",
              "      <td>2.041630</td>\n",
              "      <td>3.041085</td>\n",
              "      <td>-4.619980</td>\n",
              "    </tr>\n",
              "    <tr>\n",
              "      <th>2</th>\n",
              "      <td>1.710848</td>\n",
              "      <td>-0.629603</td>\n",
              "      <td>0.363026</td>\n",
              "      <td>-1.006647</td>\n",
              "      <td>-0.852207</td>\n",
              "      <td>-0.663052</td>\n",
              "      <td>-0.762219</td>\n",
              "      <td>1.338257</td>\n",
              "      <td>-3.055070</td>\n",
              "      <td>1.036846</td>\n",
              "      <td>-0.540329</td>\n",
              "      <td>-1.261386</td>\n",
              "      <td>-2.794383</td>\n",
              "      <td>0.421217</td>\n",
              "      <td>-0.096641</td>\n",
              "      <td>0.915787</td>\n",
              "      <td>0.515170</td>\n",
              "      <td>0.834915</td>\n",
              "      <td>0.812081</td>\n",
              "      <td>-0.305331</td>\n",
              "    </tr>\n",
              "    <tr>\n",
              "      <th>3</th>\n",
              "      <td>3.069727</td>\n",
              "      <td>-2.138021</td>\n",
              "      <td>3.781628</td>\n",
              "      <td>-0.573888</td>\n",
              "      <td>-2.222572</td>\n",
              "      <td>-1.889295</td>\n",
              "      <td>-3.075327</td>\n",
              "      <td>1.516154</td>\n",
              "      <td>-4.616256</td>\n",
              "      <td>2.467550</td>\n",
              "      <td>0.183561</td>\n",
              "      <td>-6.033298</td>\n",
              "      <td>-4.600663</td>\n",
              "      <td>2.481450</td>\n",
              "      <td>-2.428741</td>\n",
              "      <td>-0.284205</td>\n",
              "      <td>3.194698</td>\n",
              "      <td>2.292678</td>\n",
              "      <td>1.414398</td>\n",
              "      <td>-3.725520</td>\n",
              "    </tr>\n",
              "    <tr>\n",
              "      <th>4</th>\n",
              "      <td>0.831282</td>\n",
              "      <td>-1.831188</td>\n",
              "      <td>4.320185</td>\n",
              "      <td>0.255302</td>\n",
              "      <td>-1.637170</td>\n",
              "      <td>-5.820933</td>\n",
              "      <td>0.956179</td>\n",
              "      <td>4.437088</td>\n",
              "      <td>-5.125105</td>\n",
              "      <td>2.659297</td>\n",
              "      <td>0.031089</td>\n",
              "      <td>-6.406083</td>\n",
              "      <td>-1.364019</td>\n",
              "      <td>-0.073857</td>\n",
              "      <td>0.971072</td>\n",
              "      <td>3.192080</td>\n",
              "      <td>-0.970228</td>\n",
              "      <td>-0.353768</td>\n",
              "      <td>1.401353</td>\n",
              "      <td>-3.797397</td>\n",
              "    </tr>\n",
              "  </tbody>\n",
              "</table>\n",
              "</div>"
            ],
            "text/plain": [
              "         x1        x2        x3  ...       x18       x19       x20\n",
              "0 -3.069499  3.643965 -0.505846  ... -1.175679 -3.010094  5.446378\n",
              "1 -0.267595 -2.774399  0.806717  ...  2.041630  3.041085 -4.619980\n",
              "2  1.710848 -0.629603  0.363026  ...  0.834915  0.812081 -0.305331\n",
              "3  3.069727 -2.138021  3.781628  ...  2.292678  1.414398 -3.725520\n",
              "4  0.831282 -1.831188  4.320185  ... -0.353768  1.401353 -3.797397\n",
              "\n",
              "[5 rows x 20 columns]"
            ]
          },
          "metadata": {},
          "execution_count": 7
        }
      ]
    },
    {
      "cell_type": "code",
      "metadata": {
        "colab": {
          "base_uri": "https://localhost:8080/"
        },
        "id": "GczdryOf_bMA",
        "outputId": "12c58559-d08a-4da3-9a34-c565b468d773"
      },
      "source": [
        "df.info()"
      ],
      "execution_count": null,
      "outputs": [
        {
          "output_type": "stream",
          "name": "stdout",
          "text": [
            "<class 'pandas.core.frame.DataFrame'>\n",
            "RangeIndex: 1000 entries, 0 to 999\n",
            "Data columns (total 21 columns):\n",
            " #   Column      Non-Null Count  Dtype  \n",
            "---  ------      --------------  -----  \n",
            " 0   Unnamed: 0  1000 non-null   int64  \n",
            " 1   x1          1000 non-null   float64\n",
            " 2   x2          1000 non-null   float64\n",
            " 3   x3          1000 non-null   float64\n",
            " 4   x4          1000 non-null   float64\n",
            " 5   x5          1000 non-null   float64\n",
            " 6   x6          1000 non-null   float64\n",
            " 7   x7          1000 non-null   float64\n",
            " 8   x8          1000 non-null   float64\n",
            " 9   x9          1000 non-null   float64\n",
            " 10  x10         1000 non-null   float64\n",
            " 11  x11         1000 non-null   float64\n",
            " 12  x12         1000 non-null   float64\n",
            " 13  x13         1000 non-null   float64\n",
            " 14  x14         1000 non-null   float64\n",
            " 15  x15         1000 non-null   float64\n",
            " 16  x16         1000 non-null   float64\n",
            " 17  x17         1000 non-null   float64\n",
            " 18  x18         1000 non-null   float64\n",
            " 19  x19         1000 non-null   float64\n",
            " 20  x20         1000 non-null   float64\n",
            "dtypes: float64(20), int64(1)\n",
            "memory usage: 164.2 KB\n"
          ]
        }
      ]
    },
    {
      "cell_type": "markdown",
      "metadata": {
        "id": "-6e2RVorAFIQ"
      },
      "source": [
        "DATA NORMALIZATION"
      ]
    },
    {
      "cell_type": "code",
      "metadata": {
        "id": "i1hMMx5d__21"
      },
      "source": [
        "# Scale the data so that each feature has the unit variance\n",
        "from sklearn.preprocessing import StandardScaler\n",
        "scaler = StandardScaler()\n",
        "scaler.fit(df) # compute the mean and standard deviation for the purpose of centering and scaling\n",
        "sd_df = scaler.transform(df) # standarize df by performing centering and scaling"
      ],
      "execution_count": null,
      "outputs": []
    },
    {
      "cell_type": "markdown",
      "metadata": {
        "id": "I3p4q5Z2AVya"
      },
      "source": [
        "PCA ANALYSIS"
      ]
    },
    {
      "cell_type": "code",
      "metadata": {
        "colab": {
          "base_uri": "https://localhost:8080/"
        },
        "id": "tbTwHdROAYZy",
        "outputId": "eff96fd0-b4f6-4b44-d2d4-3a3c43c31528"
      },
      "source": [
        "from sklearn.decomposition import PCA\n",
        "pca = PCA(n_components=13) # define PCA analysis # n_components <= total number of features. Here we use n_component=# features in order to observe the contribution of each principal component \n",
        "pca.fit(sd_df) # perform PCA analysis on the normalized dataset"
      ],
      "execution_count": null,
      "outputs": [
        {
          "output_type": "execute_result",
          "data": {
            "text/plain": [
              "PCA(copy=True, iterated_power='auto', n_components=13, random_state=None,\n",
              "    svd_solver='auto', tol=0.0, whiten=False)"
            ]
          },
          "metadata": {},
          "execution_count": 9
        }
      ]
    },
    {
      "cell_type": "code",
      "metadata": {
        "id": "PRps_DoGAk8Z"
      },
      "source": [
        "df_pca = pca.transform(sd_df) # apply dimensional reduction to the standarized data"
      ],
      "execution_count": null,
      "outputs": []
    },
    {
      "cell_type": "markdown",
      "metadata": {
        "id": "0eHWgNRSAuug"
      },
      "source": [
        "DATA Visualization"
      ]
    },
    {
      "cell_type": "code",
      "metadata": {
        "colab": {
          "base_uri": "https://localhost:8080/",
          "height": 229
        },
        "id": "1fre1eRpAxMJ",
        "outputId": "36e7553c-bc24-4b16-da53-08e86ec683a6"
      },
      "source": [
        "# plot the observations on PC#1 and PC#2. \n",
        "plt.figure(figsize=(8,6))\n",
        "plt.scatter(df_pca[:,0],df_pca[:,1]) \n",
        "plt.xlabel('First principal component (PC1)')\n",
        "plt.ylabel('Second Principal Component (PC2)')\n",
        "plt.colorbar()\n",
        "plt.show()"
      ],
      "execution_count": null,
      "outputs": [
        {
          "output_type": "error",
          "ename": "NameError",
          "evalue": "ignored",
          "traceback": [
            "\u001b[0;31m---------------------------------------------------------------------------\u001b[0m",
            "\u001b[0;31mNameError\u001b[0m                                 Traceback (most recent call last)",
            "\u001b[0;32m<ipython-input-1-3efbcd0ffc3e>\u001b[0m in \u001b[0;36m<module>\u001b[0;34m()\u001b[0m\n\u001b[1;32m      1\u001b[0m \u001b[0;31m# plot the observations on PC#1 and PC#2.\u001b[0m\u001b[0;34m\u001b[0m\u001b[0;34m\u001b[0m\u001b[0;34m\u001b[0m\u001b[0m\n\u001b[0;32m----> 2\u001b[0;31m \u001b[0mplt\u001b[0m\u001b[0;34m.\u001b[0m\u001b[0mfigure\u001b[0m\u001b[0;34m(\u001b[0m\u001b[0mfigsize\u001b[0m\u001b[0;34m=\u001b[0m\u001b[0;34m(\u001b[0m\u001b[0;36m8\u001b[0m\u001b[0;34m,\u001b[0m\u001b[0;36m6\u001b[0m\u001b[0;34m)\u001b[0m\u001b[0;34m)\u001b[0m\u001b[0;34m\u001b[0m\u001b[0;34m\u001b[0m\u001b[0m\n\u001b[0m\u001b[1;32m      3\u001b[0m \u001b[0mplt\u001b[0m\u001b[0;34m.\u001b[0m\u001b[0mscatter\u001b[0m\u001b[0;34m(\u001b[0m\u001b[0mdf_pca\u001b[0m\u001b[0;34m[\u001b[0m\u001b[0;34m:\u001b[0m\u001b[0;34m,\u001b[0m\u001b[0;36m0\u001b[0m\u001b[0;34m]\u001b[0m\u001b[0;34m,\u001b[0m\u001b[0mdf_pca\u001b[0m\u001b[0;34m[\u001b[0m\u001b[0;34m:\u001b[0m\u001b[0;34m,\u001b[0m\u001b[0;36m1\u001b[0m\u001b[0;34m]\u001b[0m\u001b[0;34m)\u001b[0m\u001b[0;34m\u001b[0m\u001b[0;34m\u001b[0m\u001b[0m\n\u001b[1;32m      4\u001b[0m \u001b[0mplt\u001b[0m\u001b[0;34m.\u001b[0m\u001b[0mxlabel\u001b[0m\u001b[0;34m(\u001b[0m\u001b[0;34m'First principal component (PC1)'\u001b[0m\u001b[0;34m)\u001b[0m\u001b[0;34m\u001b[0m\u001b[0;34m\u001b[0m\u001b[0m\n\u001b[1;32m      5\u001b[0m \u001b[0mplt\u001b[0m\u001b[0;34m.\u001b[0m\u001b[0mylabel\u001b[0m\u001b[0;34m(\u001b[0m\u001b[0;34m'Second Principal Component (PC2)'\u001b[0m\u001b[0;34m)\u001b[0m\u001b[0;34m\u001b[0m\u001b[0;34m\u001b[0m\u001b[0m\n",
            "\u001b[0;31mNameError\u001b[0m: name 'plt' is not defined"
          ]
        }
      ]
    },
    {
      "cell_type": "code",
      "metadata": {
        "colab": {
          "base_uri": "https://localhost:8080/"
        },
        "id": "XL_CBJ0iDjKc",
        "outputId": "321b9c0b-8e92-4d80-cefe-12fbd45a374b"
      },
      "source": [
        "df.keys()"
      ],
      "execution_count": null,
      "outputs": [
        {
          "output_type": "execute_result",
          "data": {
            "text/plain": [
              "Index(['x1', 'x2', 'x3', 'x4', 'x5', 'x6', 'x7', 'x8', 'x9', 'x10', 'x11',\n",
              "       'x12', 'x13', 'x14', 'x15', 'x16', 'x17', 'x18', 'x19', 'x20'],\n",
              "      dtype='object')"
            ]
          },
          "metadata": {},
          "execution_count": 19
        }
      ]
    }
  ]
}